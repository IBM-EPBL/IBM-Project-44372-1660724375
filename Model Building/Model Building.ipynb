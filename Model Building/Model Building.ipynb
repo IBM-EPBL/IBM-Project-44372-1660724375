{
  "nbformat": 4,
  "nbformat_minor": 0,
  "metadata": {
    "colab": {
      "provenance": []
    },
    "kernelspec": {
      "name": "python3",
      "display_name": "Python 3"
    },
    "language_info": {
      "name": "python"
    }
  },
  "cells": [
    {
      "cell_type": "code",
      "execution_count": 1,
      "metadata": {
        "colab": {
          "base_uri": "https://localhost:8080/"
        },
        "id": "W2YhjAoGFqfC",
        "outputId": "f9d92d97-b79d-4d16-925e-0667f7466dfd"
      },
      "outputs": [
        {
          "output_type": "stream",
          "name": "stdout",
          "text": [
            "Mounted at /content/drive\n"
          ]
        }
      ],
      "source": [
        "from google.colab import drive\n",
        "drive.mount('/content/drive')\n"
      ]
    },
    {
      "cell_type": "code",
      "source": [
        "!pip install twilio"
      ],
      "metadata": {
        "colab": {
          "base_uri": "https://localhost:8080/"
        },
        "id": "3X8JmwMvWu_k",
        "outputId": "e6d07773-c2d1-4f17-9468-d5e028038f92"
      },
      "execution_count": 2,
      "outputs": [
        {
          "output_type": "stream",
          "name": "stdout",
          "text": [
            "Looking in indexes: https://pypi.org/simple, https://us-python.pkg.dev/colab-wheels/public/simple/\n",
            "Collecting twilio\n",
            "  Downloading twilio-7.15.3-py2.py3-none-any.whl (1.4 MB)\n",
            "\u001b[K     |████████████████████████████████| 1.4 MB 23.6 MB/s \n",
            "\u001b[?25hCollecting PyJWT<3.0.0,>=2.0.0\n",
            "  Downloading PyJWT-2.6.0-py3-none-any.whl (20 kB)\n",
            "Requirement already satisfied: requests>=2.0.0 in /usr/local/lib/python3.7/dist-packages (from twilio) (2.23.0)\n",
            "Requirement already satisfied: pytz in /usr/local/lib/python3.7/dist-packages (from twilio) (2022.6)\n",
            "Requirement already satisfied: certifi>=2017.4.17 in /usr/local/lib/python3.7/dist-packages (from requests>=2.0.0->twilio) (2022.9.24)\n",
            "Requirement already satisfied: chardet<4,>=3.0.2 in /usr/local/lib/python3.7/dist-packages (from requests>=2.0.0->twilio) (3.0.4)\n",
            "Requirement already satisfied: urllib3!=1.25.0,!=1.25.1,<1.26,>=1.21.1 in /usr/local/lib/python3.7/dist-packages (from requests>=2.0.0->twilio) (1.24.3)\n",
            "Requirement already satisfied: idna<3,>=2.5 in /usr/local/lib/python3.7/dist-packages (from requests>=2.0.0->twilio) (2.10)\n",
            "Installing collected packages: PyJWT, twilio\n",
            "Successfully installed PyJWT-2.6.0 twilio-7.15.3\n"
          ]
        }
      ]
    },
    {
      "cell_type": "markdown",
      "source": [
        "## **Importing The ImageDataGenerator Library**"
      ],
      "metadata": {
        "id": "QO_qNqRwF_bd"
      }
    },
    {
      "cell_type": "code",
      "source": [
        "from keras.preprocessing.image import ImageDataGenerator"
      ],
      "metadata": {
        "id": "NynpqITvGH02"
      },
      "execution_count": 3,
      "outputs": []
    },
    {
      "cell_type": "markdown",
      "source": [
        "## **Define The Parameters /Arguments For ImageDataGenerator Class**"
      ],
      "metadata": {
        "id": "Lgvnp9j9GxtF"
      }
    },
    {
      "cell_type": "code",
      "source": [
        "batch_size = 16\n",
        "\n",
        "train_datagen = ImageDataGenerator(\n",
        "    rotation_range=40,\n",
        "    width_shift_range=0.2,\n",
        "    height_shift_range=0.2,\n",
        "    rescale=1./255,\n",
        "    shear_range=0.2,\n",
        "    zoom_range=0.2,\n",
        "    horizontal_flip=True,\n",
        "    fill_mode='nearest'\n",
        ")"
      ],
      "metadata": {
        "id": "wSslqc4eGJtt"
      },
      "execution_count": 4,
      "outputs": []
    },
    {
      "cell_type": "markdown",
      "source": [
        "# **Applying ImageDataGenerator Functionality To Trainset And Testset**"
      ],
      "metadata": {
        "id": "buxglNeOHBkm"
      }
    },
    {
      "cell_type": "code",
      "source": [
        "val_datagen = ImageDataGenerator(\n",
        "    rescale=1./255\n",
        ")\n",
        "\n",
        "train_generator = train_datagen.flow_from_directory(\n",
        "    r'/content/drive/Shareddrives/IBM - MAHALAKSHMI R/Final Deliverable/Dataset/train_set',\n",
        "    target_size=(150, 150),\n",
        "    batch_size=batch_size,\n",
        "    class_mode='binary'\n",
        ")\n",
        "\n",
        "val_generator = val_datagen.flow_from_directory(\n",
        "    r'/content/drive/Shareddrives/IBM - MAHALAKSHMI R/Final Deliverable/Dataset/test_set',\n",
        "    target_size=(150, 150),\n",
        "    batch_size=batch_size,\n",
        "    class_mode='binary'\n",
        ")"
      ],
      "metadata": {
        "colab": {
          "base_uri": "https://localhost:8080/"
        },
        "id": "wCkbdbZ9GPe0",
        "outputId": "35aa891f-503d-405b-8ee8-23e31420154d"
      },
      "execution_count": 5,
      "outputs": [
        {
          "output_type": "stream",
          "name": "stdout",
          "text": [
            "Found 436 images belonging to 2 classes.\n",
            "Found 121 images belonging to 2 classes.\n"
          ]
        }
      ]
    },
    {
      "cell_type": "markdown",
      "source": [
        "## **Model Building**"
      ],
      "metadata": {
        "id": "dqyhcsZZqo9g"
      }
    },
    {
      "cell_type": "markdown",
      "source": [
        "## **Importing The Model Building Libraries**"
      ],
      "metadata": {
        "id": "tsKNmunwp6R_"
      }
    },
    {
      "cell_type": "code",
      "source": [
        "from keras.models import Sequential\n",
        "from keras.layers import Conv2D, MaxPooling2D\n",
        "from keras.layers import Activation, Dropout, Flatten, Dense"
      ],
      "metadata": {
        "id": "uV3FCH1hKh0S"
      },
      "execution_count": 6,
      "outputs": []
    },
    {
      "cell_type": "markdown",
      "source": [
        "## **Adding CNN & Dense Layers**"
      ],
      "metadata": {
        "id": "7BkgZ2_rrCML"
      }
    },
    {
      "cell_type": "code",
      "source": [
        "model = Sequential()\n",
        "model.add(Conv2D(32, (3, 3), input_shape=(150, 150, 3)))\n",
        "model.add(Activation('relu'))\n",
        "model.add(MaxPooling2D(pool_size=(2, 2)))\n",
        "\n",
        "model.add(Conv2D(32, (3, 3)))\n",
        "model.add(Activation('relu'))\n",
        "model.add(MaxPooling2D(pool_size=(2, 2)))\n",
        "\n",
        "model.add(Conv2D(64, (3, 3)))\n",
        "model.add(Activation('relu'))\n",
        "model.add(MaxPooling2D(pool_size=(2, 2)))\n",
        "\n",
        "model.add(Flatten())  # this converts our 3D feature maps to 1D feature vectors\n",
        "model.add(Dense(64))\n",
        "model.add(Activation('relu'))\n",
        "model.add(Dropout(0.5))\n",
        "model.add(Dense(1))\n",
        "model.add(Activation('sigmoid'))\n"
      ],
      "metadata": {
        "id": "lZ95-IJDK6qQ"
      },
      "execution_count": 7,
      "outputs": []
    },
    {
      "cell_type": "markdown",
      "source": [
        "## **Configuring The Learning Process**"
      ],
      "metadata": {
        "id": "qSIWqHPurVTz"
      }
    },
    {
      "cell_type": "code",
      "source": [
        "model.compile(\n",
        "    loss='binary_crossentropy',\n",
        "    optimizer='rmsprop',\n",
        "    metrics=['acc']\n",
        ")\n",
        "\n",
        "model.summary()"
      ],
      "metadata": {
        "colab": {
          "base_uri": "https://localhost:8080/"
        },
        "id": "5wMfUQQiLEqU",
        "outputId": "9c383c14-6115-4f87-f70a-00deb976cb72"
      },
      "execution_count": 8,
      "outputs": [
        {
          "output_type": "stream",
          "name": "stdout",
          "text": [
            "Model: \"sequential\"\n",
            "_________________________________________________________________\n",
            " Layer (type)                Output Shape              Param #   \n",
            "=================================================================\n",
            " conv2d (Conv2D)             (None, 148, 148, 32)      896       \n",
            "                                                                 \n",
            " activation (Activation)     (None, 148, 148, 32)      0         \n",
            "                                                                 \n",
            " max_pooling2d (MaxPooling2D  (None, 74, 74, 32)       0         \n",
            " )                                                               \n",
            "                                                                 \n",
            " conv2d_1 (Conv2D)           (None, 72, 72, 32)        9248      \n",
            "                                                                 \n",
            " activation_1 (Activation)   (None, 72, 72, 32)        0         \n",
            "                                                                 \n",
            " max_pooling2d_1 (MaxPooling  (None, 36, 36, 32)       0         \n",
            " 2D)                                                             \n",
            "                                                                 \n",
            " conv2d_2 (Conv2D)           (None, 34, 34, 64)        18496     \n",
            "                                                                 \n",
            " activation_2 (Activation)   (None, 34, 34, 64)        0         \n",
            "                                                                 \n",
            " max_pooling2d_2 (MaxPooling  (None, 17, 17, 64)       0         \n",
            " 2D)                                                             \n",
            "                                                                 \n",
            " flatten (Flatten)           (None, 18496)             0         \n",
            "                                                                 \n",
            " dense (Dense)               (None, 64)                1183808   \n",
            "                                                                 \n",
            " activation_3 (Activation)   (None, 64)                0         \n",
            "                                                                 \n",
            " dropout (Dropout)           (None, 64)                0         \n",
            "                                                                 \n",
            " dense_1 (Dense)             (None, 1)                 65        \n",
            "                                                                 \n",
            " activation_4 (Activation)   (None, 1)                 0         \n",
            "                                                                 \n",
            "=================================================================\n",
            "Total params: 1,212,513\n",
            "Trainable params: 1,212,513\n",
            "Non-trainable params: 0\n",
            "_________________________________________________________________\n"
          ]
        }
      ]
    },
    {
      "cell_type": "markdown",
      "source": [
        "## **Training and saving model**"
      ],
      "metadata": {
        "id": "NfB4rdp7st2i"
      }
    },
    {
      "cell_type": "code",
      "source": [
        "model.fit(\n",
        "    train_generator,\n",
        "    epochs=10,\n",
        "    validation_data=val_generator\n",
        ")\n",
        "model.save('forest1.h5')"
      ],
      "metadata": {
        "colab": {
          "base_uri": "https://localhost:8080/"
        },
        "id": "8rs_lVhYLPM0",
        "outputId": "2d991c62-93c2-49d2-cbed-52302739257f"
      },
      "execution_count": 10,
      "outputs": [
        {
          "output_type": "stream",
          "name": "stdout",
          "text": [
            "Epoch 1/10\n",
            "28/28 [==============================] - 38s 1s/step - loss: 0.2126 - acc: 0.9266 - val_loss: 0.1714 - val_acc: 0.9256\n",
            "Epoch 2/10\n",
            "28/28 [==============================] - 33s 1s/step - loss: 0.2175 - acc: 0.9197 - val_loss: 0.0421 - val_acc: 0.9917\n",
            "Epoch 3/10\n",
            "28/28 [==============================] - 33s 1s/step - loss: 0.1832 - acc: 0.9358 - val_loss: 0.0194 - val_acc: 0.9917\n",
            "Epoch 4/10\n",
            "28/28 [==============================] - 32s 1s/step - loss: 0.2108 - acc: 0.9266 - val_loss: 0.0343 - val_acc: 0.9917\n",
            "Epoch 5/10\n",
            "28/28 [==============================] - 34s 1s/step - loss: 0.1752 - acc: 0.9289 - val_loss: 0.0379 - val_acc: 0.9917\n",
            "Epoch 6/10\n",
            "28/28 [==============================] - 36s 1s/step - loss: 0.1632 - acc: 0.9564 - val_loss: 0.0438 - val_acc: 0.9835\n",
            "Epoch 7/10\n",
            "28/28 [==============================] - 31s 1s/step - loss: 0.2039 - acc: 0.9289 - val_loss: 0.0376 - val_acc: 0.9835\n",
            "Epoch 8/10\n",
            "28/28 [==============================] - 34s 1s/step - loss: 0.2174 - acc: 0.9450 - val_loss: 0.0301 - val_acc: 0.9917\n",
            "Epoch 9/10\n",
            "28/28 [==============================] - 33s 1s/step - loss: 0.1450 - acc: 0.9495 - val_loss: 0.0180 - val_acc: 0.9917\n",
            "Epoch 10/10\n",
            "28/28 [==============================] - 31s 1s/step - loss: 0.1910 - acc: 0.9404 - val_loss: 0.0230 - val_acc: 0.9917\n"
          ]
        }
      ]
    },
    {
      "cell_type": "markdown",
      "source": [
        "## **Predictions**"
      ],
      "metadata": {
        "id": "HNRgpI2XzGMd"
      }
    },
    {
      "cell_type": "code",
      "source": [
        "import cv2\n",
        "import numpy as np\n",
        "from keras.utils import load_img, img_to_array\n",
        "from keras.models import load_model\n",
        "from twilio.rest import Client\n",
        "\n",
        "model = load_model(r'forest1.h5')\n",
        "name = ['forest', 'with fire']\n",
        "\n",
        "\n",
        "img = load_img(r'/content/drive/Shareddrives/IBM - MAHALAKSHMI R/Final Deliverable/Dataset/test_set/with fire/19464620_401.jpg', target_size = (150,150))\n",
        "x = img_to_array(img)\n",
        "x = np.expand_dims(x,axis = 0)\n",
        "pred = model.predict(x)\n",
        "classes_x=np.argmax(pred,axis=1)\n",
        "p = pred[0][0].astype(int)\n",
        "print(pred)\n",
        "    \n",
        "\n",
        "    \n",
        "pred = model.predict(x)\n",
        "if pred[0]==1:\n",
        "    account_sid = 'AC03faa7b579ff4212e3a310a93e553e1a'\n",
        "    auth_token = 'c6e2eaada8fdabad91c463189525cf37'\n",
        "    client = Client(account_sid, auth_token)\n",
        "    message = client.messages \\\n",
        "        .create(\n",
        "            body = 'Forest Fire is detected, stay alert',\n",
        "            from_='+12182559719',\n",
        "            to='+919600909256'\n",
        "        )\n",
        "    print(message.sid)\n",
        "    print('Fire Detected')\n",
        "    print('SMS sent!')\n",
        "        \n",
        "else:\n",
        "    print(\"No Danger\")"
      ],
      "metadata": {
        "colab": {
          "base_uri": "https://localhost:8080/"
        },
        "id": "WiT8mNpFOFqK",
        "outputId": "c2aecc2b-43a1-4ce6-e811-b52e89fc015b"
      },
      "execution_count": 15,
      "outputs": [
        {
          "output_type": "stream",
          "name": "stderr",
          "text": [
            "WARNING:tensorflow:5 out of the last 5 calls to <function Model.make_predict_function.<locals>.predict_function at 0x7f5b4d775cb0> triggered tf.function retracing. Tracing is expensive and the excessive number of tracings could be due to (1) creating @tf.function repeatedly in a loop, (2) passing tensors with different shapes, (3) passing Python objects instead of tensors. For (1), please define your @tf.function outside of the loop. For (2), @tf.function has reduce_retracing=True option that can avoid unnecessary retracing. For (3), please refer to https://www.tensorflow.org/guide/function#controlling_retracing and https://www.tensorflow.org/api_docs/python/tf/function for  more details.\n"
          ]
        },
        {
          "output_type": "stream",
          "name": "stdout",
          "text": [
            "1/1 [==============================] - 0s 123ms/step\n",
            "[[1.]]\n",
            "1/1 [==============================] - 0s 34ms/step\n",
            "SMec0aa2c2147e8f323ffc81110c4b1b95\n",
            "Fire Detected\n",
            "SMS sent!\n"
          ]
        }
      ]
    }
  ]
}